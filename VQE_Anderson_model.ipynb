{
 "cells": [
  {
   "cell_type": "markdown",
   "id": "aa02e745",
   "metadata": {},
   "source": [
    "# Hands-on session: Variational ground state preparation for the Anderson model\n",
    "\n",
    "In this notebook, you will get familiar with myqlm, a free library for fermionic simulation. \n",
    "\n",
    "You will see how to prepare the ground state of an Anderson impurity Hamiltonian within the Variational Quantum Eigensolver. You will investigate about the structure of the ansatz circuit that is required in both uncorrelated ($U=0$) and correlated ($U=1$) settings. You will play with different optimizers in the presence of shot noise. Finally you'll add some hardware noise model. \n",
    "\n",
    "I strongly encourage you to play around with the different objects you will encounter!"
   ]
  },
  {
   "cell_type": "code",
   "execution_count": null,
   "id": "5771e1eb",
   "metadata": {},
   "outputs": [],
   "source": [
    "#!pip install myqlm\n",
    "#!pip install myqlm-simulators\n",
    "\n",
    "#!python -m qat.magics.install"
   ]
  },
  {
   "cell_type": "markdown",
   "id": "ce0d5374",
   "metadata": {},
   "source": [
    "⚠️\n",
    "__(Google-colab specific)__\n",
    "At that point, you need to hit 'Runtime' in the menu bar and click 'Restart runtime' so that you'll be able to display circuits."
   ]
  },
  {
   "cell_type": "code",
   "execution_count": null,
   "id": "e109c856",
   "metadata": {},
   "outputs": [],
   "source": [
    "import numpy as np\n",
    "import copy\n",
    "import matplotlib.pyplot as plt\n",
    "\n",
    "from qat.fermion.hamiltonians import make_anderson_model, ElectronicStructureHamiltonian\n",
    "from qat.fermion.transforms import transform_to_jw_basis\n",
    "\n",
    "from qat.lang.AQASM import Program, RY\n",
    "from qat.plugins import ScipyMinimizePlugin, SeqOptim, MultipleLaunchesAnalyzer\n",
    "\n",
    "from qat.qpus import get_default_qpu\n",
    "\n",
    "# toolbox\n",
    "from qat.fermion.chemistry.ucc import transform_integrals_to_new_basis\n",
    "from qat.lang.AQASM import RX, RZ, CNOT\n"
   ]
  },
  {
   "cell_type": "markdown",
   "id": "c86a2f86",
   "metadata": {},
   "source": [
    "## Variational quantum preparation of the ground state\n",
    "Here we'll prepare the ground state of some embedded model with VQE."
   ]
  },
  {
   "cell_type": "markdown",
   "id": "b5646d53",
   "metadata": {},
   "source": [
    "We'll construct the following embedded model Hamiltonian, a single-impurity Anderson model (SIAM):\n",
    "\n",
    "$H_{\\mathrm{SIAM}} = U d^{\\dagger}_{\\uparrow}d_{\\uparrow}d^{\\dagger}_{\\downarrow}d_{\\downarrow}\n",
    "                    -\\mu ( d^{\\dagger}_{\\uparrow}d_{\\uparrow} + d^{\\dagger}_{\\downarrow}d_{\\downarrow})\n",
    "                       + \\sum_{p=1}^{N_b}\\sum_{\\sigma=\\uparrow, \\downarrow} (V_p d^{\\dagger}_{\\sigma} f_{p\\sigma} + \\mathrm{h.c.}) \n",
    "                   + \\sum_{p=1}^{N_b}\\sum_{\\sigma=\\uparrow, \\downarrow} \\epsilon_p f^{\\dagger}_{p\\sigma} f_{p\\sigma} $\n",
    "                   \n",
    "where $d/d^{\\dagger}$ operators correspond to the correlated, 'impurity' site and the $f_p/f_p^{\\dagger}$ operators, to the $N_b$ bath sites. \n",
    "\n",
    "We'll consider the simplest case: $N_b=1$ (corresponding to 4 fermionic modes due to spin degeneracy, and thus, 4 qubits)."
   ]
  },
  {
   "cell_type": "markdown",
   "id": "f03cec3b",
   "metadata": {},
   "source": [
    "### 1. $U=0$ case"
   ]
  },
  {
   "cell_type": "markdown",
   "id": "1d09e238",
   "metadata": {},
   "source": [
    "Let's consider first a non-interacting system. We start by creating a second-quantized hamiltonian, get its matrix and diagonalize it to determine the ground state energy so we'll be able to evaluate how well our VQE procedure performs."
   ]
  },
  {
   "cell_type": "code",
   "execution_count": null,
   "id": "03ca0e54",
   "metadata": {},
   "outputs": [],
   "source": [
    "U = 0\n",
    "mu = U/2 # half-filling\n",
    "V = [1]\n",
    "epsilon = [2]\n",
    "\n",
    "hamilt_0 = make_anderson_model(U, mu, V, epsilon) \n",
    "h_mat_0 = hamilt_0.get_matrix()\n",
    "eigvals, eigvecs = np.linalg.eigh(h_mat_0)\n",
    "E0_U0 = eigvals[0]\n",
    "print('E0 at U=0:', E0_U0)"
   ]
  },
  {
   "cell_type": "markdown",
   "id": "c0b70dec",
   "metadata": {},
   "source": [
    "The object `hamilt` is an instance of `ElectronicStructureHamiltonian`, which is a class aimed at manipulating second-quantized Hamiltonians $H = \\sum_{pq} h_{pq}f^{\\dagger}_p f_q + \\frac{1}{2}\\sum_{pqrs} h_{pqrs}f^{\\dagger}_p f^{\\dagger}_q f_r f_s + c I$.\n",
    "\n",
    "Its attribues are `hpq` and `hpqrs` and `constant_coeff`. The function `make_anderson_model` creates these objects for us, from the more natural fields $U, \\mu, V$ and $\\epsilon$."
   ]
  },
  {
   "cell_type": "code",
   "execution_count": null,
   "id": "d0796139",
   "metadata": {},
   "outputs": [],
   "source": [
    "print(hamilt_0.hpq)"
   ]
  },
  {
   "cell_type": "markdown",
   "id": "b34dcacd",
   "metadata": {},
   "source": [
    "We need to transform this Hamiltonian onto an qubit observable, namely a spin Hamiltonian, so that we'll be able to measure the energy associated to a given circuit.\n",
    "\n",
    "We can do this through various fermions-to-spins transforms. Here, we use the Jordan-Wigner method."
   ]
  },
  {
   "cell_type": "code",
   "execution_count": null,
   "id": "efb4fdd5",
   "metadata": {},
   "outputs": [],
   "source": [
    "h_spin_0 = transform_to_jw_basis(hamilt_0)"
   ]
  },
  {
   "cell_type": "markdown",
   "id": "5e38f581",
   "metadata": {},
   "source": [
    "Let's now construct our ansatz circuit! We start by considering what is probably the simplest variational circuit one can think of: a product circuit. It can reach any state of the form $(\\alpha_1 |0\\rangle + \\beta_1|1\\rangle)\\otimes...\\otimes (\\alpha_{\\mathrm{nbqbits}} |0\\rangle + \\beta_{\\mathrm{nbqbits}}|1\\rangle)$."
   ]
  },
  {
   "cell_type": "code",
   "execution_count": null,
   "id": "1798a907",
   "metadata": {},
   "outputs": [],
   "source": [
    "def construct_product_circ(nbqbits=4):\n",
    "    prog = Program()\n",
    "    reg = prog.qalloc(nbqbits)\n",
    "    theta = [prog.new_var(float, '\\\\theta_%s'%i)\n",
    "                 for i in range(nbqbits)]\n",
    "\n",
    "    for ind in range(nbqbits):\n",
    "        RY(theta[ind])(reg[ind])\n",
    "\n",
    "    circ = prog.to_circ()\n",
    "    return circ\n",
    "\n",
    "circ = construct_product_circ()\n",
    "%qatdisplay circ"
   ]
  },
  {
   "cell_type": "markdown",
   "id": "f8aa154e",
   "metadata": {},
   "source": [
    "We need to define an optimizer that will allow to compute the ansatz' circuits parameters yielding the lowest energy. Here we use standard scipy methods: play with them to find a good one!"
   ]
  },
  {
   "cell_type": "code",
   "execution_count": null,
   "id": "8008a68f",
   "metadata": {},
   "outputs": [],
   "source": [
    "method = 'BFGS' # try different ones! \n",
    "scipy_optimizer =  ScipyMinimizePlugin(method=method) # supposes random initialization\n",
    "qpu = get_default_qpu() # default noise-free emulator\n",
    "stack = scipy_optimizer | qpu # note the structure\n",
    "\n",
    "job = circ.to_job(observable=h_spin_0) "
   ]
  },
  {
   "cell_type": "markdown",
   "id": "0351de4d",
   "metadata": {},
   "source": [
    "Ok, everything is set, let's run our VQE algorithm..."
   ]
  },
  {
   "cell_type": "code",
   "execution_count": null,
   "id": "f50282fb",
   "metadata": {},
   "outputs": [],
   "source": [
    "res = stack.submit(job)\n",
    "print(res.value)"
   ]
  },
  {
   "cell_type": "markdown",
   "id": "7b7f9522",
   "metadata": {},
   "source": [
    "We can easily visualize the VQE convergence, as the different energy evaluations are stored in the `meta_data` of the result."
   ]
  },
  {
   "cell_type": "code",
   "execution_count": null,
   "id": "2869fde0",
   "metadata": {},
   "outputs": [],
   "source": [
    "VQE_trace = res.meta_data['optimization_trace']\n",
    "plt.axhline(E0_U0, ls='dashed', label='$E_0$', color='black', lw=3)\n",
    "plt.plot(eval(VQE_trace), label='VQE energies', lw=3)\n",
    "plt.grid()\n",
    "plt.xlabel('optimization step')\n",
    "plt.ylabel('energy')\n",
    "plt.legend()"
   ]
  },
  {
   "cell_type": "markdown",
   "id": "bab7ee55",
   "metadata": {},
   "source": [
    "Huh, weird... $U=0$ means the ground state is uncorrelated. A product circuit should do. Can you think about a way to to make the product circuit work?\n",
    "\n",
    "__Hint__: take a look at the 'toolbox' part of the first cell of the notebook where we make all the imports!"
   ]
  },
  {
   "cell_type": "code",
   "execution_count": null,
   "id": "bf3ce257",
   "metadata": {},
   "outputs": [],
   "source": [
    "# Type code here\n",
    "# ...."
   ]
  },
  {
   "cell_type": "markdown",
   "id": "123a9462",
   "metadata": {},
   "source": [
    "Here you'll notice we haven't set any initialization for the circuit's parameters: this implies the initial parameters are drawn randomly. Does the initialization have a strong influence on the value of the converged energy? \n",
    "\n",
    "You can have a quick answer to this question easily using the `MultipleLaunchesAnalyzer` plugin. It will perform several VQE runs corresponding to different random initializations, keep the best one as the VQE result but do some book-keeping: look at the `meta_data` of the result!"
   ]
  },
  {
   "cell_type": "code",
   "execution_count": null,
   "id": "3131b8ae",
   "metadata": {},
   "outputs": [],
   "source": [
    "multiplier = MultipleLaunchesAnalyzer(n_runs=10)\n",
    "multiple_launches_stack = multiplier | stack\n",
    "\n",
    "res = multiple_launches_stack.submit(job)\n",
    "# inspect res here...\n",
    "# ..."
   ]
  },
  {
   "cell_type": "markdown",
   "id": "f5e99467",
   "metadata": {},
   "source": [
    "Before turning to the $U=1$ case, let's make a first step towards realistic simulations by incorporating some shot noise. This is done at the job level. Here we'll use a gradient-free method of scipy (try using BFGS instead if you want to understand why):"
   ]
  },
  {
   "cell_type": "code",
   "execution_count": null,
   "id": "51d42a32",
   "metadata": {},
   "outputs": [],
   "source": [
    "from qat.fermion.hamiltonians import ElectronicStructureHamiltonian\n",
    "\n",
    "h_spin_0_rotated = ElectronicStructureHamiltonian.load('h_spin_0_rotated')\n",
    "job_with_shot_noise = circ.to_job(observable=h_spin_0_rotated, nbshots=1000)\n",
    "\n",
    "scipy_optimizer =  ScipyMinimizePlugin(method='COBYLA') # supposes random initialization\n",
    "scipy_optimizer_stack = scipy_optimizer | qpu\n",
    "\n",
    "scipy_res = scipy_optimizer_stack .submit(job_with_shot_noise)\n",
    "\n",
    "plt.axhline(E0_U0, ls='dashed', label='$E_0$', color='black', lw=3)\n",
    "plt.plot(eval(scipy_res.meta_data['optimization_trace']), lw=3, label='VQE energy (best run)')\n",
    "plt.grid()\n",
    "plt.xlabel('optimization step')\n",
    "plt.ylabel('energy')\n",
    "plt.legend()\n"
   ]
  },
  {
   "cell_type": "markdown",
   "id": "8cc4e937",
   "metadata": {},
   "source": [
    "Run the previous cell several times. Do you obtain similar results?\n",
    "\n",
    "In the lecture, I have presented a method exhibiting a nice shot noise-resilience, dubbed Rotosolve. Can you check it is indeed more shot-noise resilient than e.g., COBYLA?\n",
    "\n",
    "__Hint__: Using the `MultipleLaunchesAnalyzer` it is very easy to do a quick statistical analysis!"
   ]
  },
  {
   "cell_type": "code",
   "execution_count": null,
   "id": "003bab9c",
   "metadata": {},
   "outputs": [],
   "source": [
    "seq_optim = SeqOptim(ncycles=10) # ncycles is the number of times the optimizer goes \n",
    "                                 # through all of the parameters to update them locally\n",
    "\n",
    "seq_optimizer_stack = seq_optim | qpu\n",
    "\n",
    "# ...type here..."
   ]
  },
  {
   "cell_type": "markdown",
   "id": "caa9d7b7",
   "metadata": {},
   "source": [
    "Plot the VQE curve obtained with the Rotosolve optimizer. Why does it look funny?"
   ]
  },
  {
   "cell_type": "code",
   "execution_count": null,
   "id": "cc5d7634",
   "metadata": {},
   "outputs": [],
   "source": [
    "# ...type here"
   ]
  },
  {
   "cell_type": "markdown",
   "id": "06720f5e",
   "metadata": {},
   "source": [
    "Enough with uncorrelated states! They're boring: we know how to compute them sub-exponentially with classical computers. Let's deal with the real stuff and set $U$ to 1."
   ]
  },
  {
   "cell_type": "code",
   "execution_count": null,
   "id": "93372946",
   "metadata": {},
   "outputs": [],
   "source": [
    "U = 1\n",
    "mu = U/2\n",
    "hamilt_1 = make_anderson_model(U, mu, V, epsilon) \n",
    "h_mat_1 = hamilt_1.get_matrix()\n",
    "eigvals, eigvecs = np.linalg.eigh(h_mat_1)\n",
    "E0_U1 = eigvals[0]\n",
    "print('E0 at U=1:', E0_U1)\n",
    "\n",
    "h_spin_1 = transform_to_jw_basis(hamilt_1)"
   ]
  },
  {
   "cell_type": "markdown",
   "id": "19724c0e",
   "metadata": {},
   "source": [
    "Now we know that the product ansatz is doomed to failed. Try constructing an ansatz that works! \n",
    "\n",
    "__Hint__: How do you generate entanglement? Once again, take a look at the toolbox. You can also look up for 'hardware-efficient circuit' on the internet (note: the wording is slightly misleading, as there isn't a single proper way to build a hardware-efficient circuit)."
   ]
  },
  {
   "cell_type": "code",
   "execution_count": null,
   "id": "a23bfc76",
   "metadata": {},
   "outputs": [],
   "source": [
    "# try create an ansatz that works...\n",
    "\n",
    "def construct_correlated_circ(nbqbits=4, n_layers=3):\n",
    "    prog = Program()\n",
    "    reg = prog.qalloc(nbqbits)\n",
    "    n_parameters = ... # specify which total number of parameters \n",
    "                       # your circuit will have\n",
    "    \n",
    "    theta = [prog.new_var(float, '\\\\theta_%s'%i)\n",
    "                 for i in range(n_parameters)]\n",
    "\n",
    "    # for instance, start with product circuit\n",
    "    ind = 0\n",
    "    for _ in range(nbqbits):\n",
    "        RY(theta[ind])(reg[ind])\n",
    "        ind += 1\n",
    "        \n",
    "    # build up entanglement\n",
    "    for _ in range(n_layers):\n",
    "        ...\n",
    "\n",
    "        \n",
    "    circ = prog.to_circ()\n",
    "    return circ"
   ]
  },
  {
   "cell_type": "code",
   "execution_count": null,
   "id": "1d73b586",
   "metadata": {},
   "outputs": [],
   "source": [
    "# try exploring how adding complexity to your circuit increases your expressivity...\n",
    "# ..."
   ]
  },
  {
   "cell_type": "markdown",
   "id": "d37ebc41",
   "metadata": {},
   "source": [
    "Once you're satisfied with the expressivity of your circuit, try adding some real physical noise (as opposed to statistical). You can use for that the depolarizing plugin."
   ]
  },
  {
   "cell_type": "code",
   "execution_count": null,
   "id": "86971d59",
   "metadata": {},
   "outputs": [],
   "source": [
    "from qat.qpus import PyLinalg\n",
    "from depolarizing_plugin import DepolarizingPluginVec, make_matrix\n",
    "\n",
    "qpu = PyLinalg()\n",
    "depol_plugin = DepolarizingPluginVec(prob_1qb=0.001, prob_2qb=0.01)\n",
    "\n",
    "depol_qpu = depol_plugin | qpu\n",
    "depol_scipy_optimizer_stack = scipy_optimizer | depol_plugin | qpu\n",
    "\n",
    "#job = ...\n",
    "#res = ..."
   ]
  },
  {
   "cell_type": "markdown",
   "id": "5916bb7f",
   "metadata": {},
   "source": [
    "Now, is adding an entangling layer still systematically beneficial to the performances of the VQE determination of your ground state? If not, what is the optimal number of layers?"
   ]
  }
 ],
 "metadata": {
  "kernelspec": {
   "display_name": "Python 3 (ipykernel)",
   "language": "python",
   "name": "python3"
  },
  "language_info": {
   "codemirror_mode": {
    "name": "ipython",
    "version": 3
   },
   "file_extension": ".py",
   "mimetype": "text/x-python",
   "name": "python",
   "nbconvert_exporter": "python",
   "pygments_lexer": "ipython3",
   "version": "3.9.7"
  }
 },
 "nbformat": 4,
 "nbformat_minor": 5
}
